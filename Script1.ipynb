{
  "nbformat": 4,
  "nbformat_minor": 0,
  "metadata": {
    "colab": {
      "provenance": [],
      "authorship_tag": "ABX9TyOKFjtz1zbCl6KgAdDkRsuw",
      "include_colab_link": true
    },
    "kernelspec": {
      "name": "python3",
      "display_name": "Python 3"
    },
    "language_info": {
      "name": "python"
    }
  },
  "cells": [
    {
      "cell_type": "markdown",
      "metadata": {
        "id": "view-in-github",
        "colab_type": "text"
      },
      "source": [
        "<a href=\"https://colab.research.google.com/github/rjtarazonas97/Curso_Pandas_Python2025/blob/main/Script1.ipynb\" target=\"_parent\"><img src=\"https://colab.research.google.com/assets/colab-badge.svg\" alt=\"Open In Colab\"/></a>"
      ]
    },
    {
      "cell_type": "markdown",
      "source": [
        "# Cuso 1 de Pandas con python"
      ],
      "metadata": {
        "id": "weMi21ovYc9n"
      }
    },
    {
      "cell_type": "code",
      "execution_count": 2,
      "metadata": {
        "colab": {
          "base_uri": "https://localhost:8080/"
        },
        "id": "5gnUWMZEU5jm",
        "outputId": "c0d078d2-bbd5-4e27-885c-317fae0d76af"
      },
      "outputs": [
        {
          "output_type": "stream",
          "name": "stdout",
          "text": [
            "a     Pedro\n",
            "b    Camilo\n",
            "c      Juan\n",
            "d     Diego\n",
            "dtype: object\n"
          ]
        }
      ],
      "source": [
        "import pandas as pd\n",
        "\n",
        "datos = pd.Series([\"Pedro\", \"Camilo\",\"Juan\",\"Diego\"], index=[\"a\",\"b\",\"c\",\"d\"])\n",
        "\n",
        "print(datos)"
      ]
    },
    {
      "cell_type": "code",
      "source": [
        "#Datos tipo dictionary\n",
        "\n",
        "import pandas as pd\n",
        "\n",
        "datos = {\n",
        "    \"Nombre\" : [\"Jesus\", \"Rubith\", \"Pedrito\"],\n",
        "    \"Edad\" :[28,25,45],\n",
        "    \"Profesion\": [\"Ingeniero\",\"Psicologo\",\"todologo\"]\n",
        "}\n",
        "\n",
        "valores = pd.DataFrame(datos, index =[1,2,3]) #Sirve para ordanr los datos tipo excel\n",
        "\n",
        "print(valores.iloc[0,0]) # iloc sirve para llamar en la posicion del dato contando desde 0 valores.iloc[2]\n",
        "\n",
        "# Dato adicional se cuenta desde el cero de manera vertical y horizontal para val;idar los datos."
      ],
      "metadata": {
        "colab": {
          "base_uri": "https://localhost:8080/"
        },
        "id": "3vupPfNzV4wh",
        "outputId": "693c6a31-b888-4b85-801b-2971c0a05fe3"
      },
      "execution_count": 30,
      "outputs": [
        {
          "output_type": "stream",
          "name": "stdout",
          "text": [
            "Jesus\n"
          ]
        }
      ]
    }
  ]
}